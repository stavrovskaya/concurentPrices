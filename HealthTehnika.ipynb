{
 "cells": [
  {
   "cell_type": "code",
   "execution_count": 30,
   "metadata": {},
   "outputs": [],
   "source": [
    "import requests\n",
    "from bs4 import BeautifulSoup as bs\n",
    "from pprint import pprint\n",
    "import pandas as pd\n",
    "import datetime\n",
    "import re\n",
    "\n",
    "mainRef = \"https://health-tehnika.ru\"\n",
    "\n",
    "\n"
   ]
  },
  {
   "cell_type": "code",
   "execution_count": 83,
   "metadata": {},
   "outputs": [],
   "source": [
    "def getPrices(ref):\n",
    "    responce = requests.get(ref).text\n",
    "    html = bs(responce, \"lxml\")\n",
    "\n",
    "    tags = html.find_all(\"div\", class_=\"product_preview-form_container row\")\n",
    "    prices = {}\n",
    "    for tag in tags:\n",
    "        subtag = tag.find(\"div\", class_=\"product_preview-title\")\n",
    "        name = subtag.find(\"a\").getText().strip()\n",
    "        \n",
    "        name = name.replace(u'\\u2010',\"-\")\n",
    "        price = tag.find(\"div\", class_=\"prices-current\").getText().strip(\"отр \\n\\r\\t\")\n",
    "        \n",
    "        price = price.replace(\"\\xa0\",\"\")\n",
    "        \n",
    "        if price == 'Предзаказ':\n",
    "            continue\n",
    "\n",
    "            \n",
    "        if (int(price) != 0):\n",
    "            prices[name] = price\n",
    "    return(prices)"
   ]
  },
  {
   "cell_type": "code",
   "execution_count": 84,
   "metadata": {},
   "outputs": [],
   "source": [
    "def getPageRefs(ref):\n",
    "    responce = requests.get(ref).text\n",
    "    html = bs(responce, \"lxml\")\n",
    "    \n",
    "    pageNumTags = html.find(\"div\", class_=\"results\")\n",
    "    \n",
    "    if pageNumTags == None:\n",
    "        return([ref])\n",
    "    \n",
    "    res = re.search(r\"Показано с \\d+ по \\d+ из \\d+ \\(всего (\\d+) страниц\\)\", pageNumTags.getText())\n",
    "    \n",
    "    \n",
    "    lastPageNum = int(res.group(1))\n",
    "\n",
    "    refs = [ref + \"?page=\" + str(x) for x in range(2,lastPageNum + 1)]\n",
    "    refs = [ref] + refs\n",
    "    return(refs)"
   ]
  },
  {
   "cell_type": "code",
   "execution_count": 85,
   "metadata": {},
   "outputs": [],
   "source": [
    "def getAllPrices(refs):\n",
    "    allPrices = {}\n",
    "\n",
    "    for pageRef in refs:\n",
    "        prices = getPrices(pageRef)\n",
    "        allPrices.update(prices)\n",
    "    return(allPrices)"
   ]
  },
  {
   "cell_type": "code",
   "execution_count": 86,
   "metadata": {},
   "outputs": [],
   "source": [
    "def printToFile(allPrices, fname):\n",
    "\n",
    "    data = pd.DataFrame(list(allPrices.items()))\n",
    "    data.columns = [\"name\",\"price\"]\n",
    "    \n",
    "    data.sort_values(\"name\").to_csv(fname, index = False, sep = \";\", encoding='cp1251')\n"
   ]
  },
  {
   "cell_type": "code",
   "execution_count": 87,
   "metadata": {},
   "outputs": [],
   "source": [
    "def getAll(ref):\n",
    "        \n",
    "    refs = getPageRefs(ref)\n",
    "    \n",
    "    allPrices = getAllPrices(refs)\n",
    "    \n",
    "    return(allPrices)"
   ]
  },
  {
   "cell_type": "code",
   "execution_count": 88,
   "metadata": {},
   "outputs": [],
   "source": [
    "def getCtalogRefs(ref):\n",
    "    refs = set()\n",
    "    \n",
    "    responce = requests.get(ref).text\n",
    "    html = bs(responce, \"lxml\")\n",
    "    \n",
    "    megaCat = html.find(\"ul\", class_=\"menu menu--main menu--main_lvl_1 menu--horizontal\")\n",
    "    \n",
    "    colBlockTags = megaCat.findAll(\"li\", class_=\"menu-node menu-node--main_lvl_1 js-menu-wrapper\")\n",
    "    for tag in colBlockTags:\n",
    "        atag = tag.find(\"a\")\n",
    "        name = atag.getText().strip()\n",
    "        \n",
    "        if (name == \"Акции\") | (name == \"Подарочные сертификаты\") | (name == \"Бренды\"):\n",
    "            continue\n",
    "\n",
    "        refs.add(ref + atag['href'])\n",
    "    \n",
    "    return(refs)"
   ]
  },
  {
   "cell_type": "code",
   "execution_count": 89,
   "metadata": {},
   "outputs": [
    {
     "name": "stdout",
     "output_type": "stream",
     "text": [
      "https://health-tehnika.ru/collection/blendery\n",
      "https://health-tehnika.ru/collection/komplektuyuschie-i-aksessuary\n",
      "https://health-tehnika.ru/collection/vakuumnye-upakovschiki\n",
      "https://health-tehnika.ru/collection/kuhonnaya-tehnika\n",
      "https://health-tehnika.ru/collection/pribory-dlya-zdorovya\n",
      "https://health-tehnika.ru/collection/posuda-green-pan\n",
      "https://health-tehnika.ru/collection/proraschivateli\n",
      "https://health-tehnika.ru/collection/sokovyzhimalki\n",
      "https://health-tehnika.ru/collection/degidratory-sushilki\n",
      "https://health-tehnika.ru/collection/produkty-dlya-zdorovya\n"
     ]
    }
   ],
   "source": [
    "if __name__ == '__main__':    \n",
    "    now = datetime.datetime.now()\n",
    "    fname = \"HealthTehnika_\" + now.strftime(\"%d-%m-%Y\") + \".csv\"\n",
    "    \n",
    "    catRefs = getCtalogRefs(mainRef)\n",
    "\n",
    "    \n",
    "    allPrices = {}\n",
    "\n",
    "    for ref in catRefs:\n",
    "\n",
    "        print(ref)\n",
    "        allPrices.update(getAll(ref))\n",
    "    \n",
    "    printToFile(allPrices, fname)\n",
    "    \n",
    "    "
   ]
  },
  {
   "cell_type": "code",
   "execution_count": null,
   "metadata": {},
   "outputs": [],
   "source": [
    "\n"
   ]
  },
  {
   "cell_type": "code",
   "execution_count": null,
   "metadata": {},
   "outputs": [],
   "source": []
  },
  {
   "cell_type": "code",
   "execution_count": null,
   "metadata": {},
   "outputs": [],
   "source": []
  },
  {
   "cell_type": "code",
   "execution_count": null,
   "metadata": {},
   "outputs": [],
   "source": []
  },
  {
   "cell_type": "code",
   "execution_count": 123,
   "metadata": {},
   "outputs": [],
   "source": []
  },
  {
   "cell_type": "code",
   "execution_count": 125,
   "metadata": {},
   "outputs": [],
   "source": []
  },
  {
   "cell_type": "code",
   "execution_count": null,
   "metadata": {},
   "outputs": [],
   "source": []
  }
 ],
 "metadata": {
  "kernelspec": {
   "display_name": "Python 3",
   "language": "python",
   "name": "python3"
  },
  "language_info": {
   "codemirror_mode": {
    "name": "ipython",
    "version": 3
   },
   "file_extension": ".py",
   "mimetype": "text/x-python",
   "name": "python",
   "nbconvert_exporter": "python",
   "pygments_lexer": "ipython3",
   "version": "3.6.5"
  }
 },
 "nbformat": 4,
 "nbformat_minor": 2
}

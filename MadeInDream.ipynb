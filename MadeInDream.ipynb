{
 "cells": [
  {
   "cell_type": "code",
   "execution_count": 97,
   "metadata": {},
   "outputs": [],
   "source": [
    "import requests\n",
    "from bs4 import BeautifulSoup as bs\n",
    "from pprint import pprint\n",
    "import pandas as pd\n",
    "import datetime\n",
    "import re\n",
    "\n",
    "mainRef = \"https://madeindream.com\"\n",
    "\n",
    "\n"
   ]
  },
  {
   "cell_type": "code",
   "execution_count": 141,
   "metadata": {},
   "outputs": [],
   "source": [
    "def getPrices(ref):\n",
    "    responce = requests.get(ref).text\n",
    "    html = bs(responce, \"lxml\")\n",
    "\n",
    "    tags = html.find_all(\"div\", class_=\"product-thumb clearfix grid_3\")\n",
    "    prices = {}\n",
    "    for tag in tags:\n",
    "        nameTag = tag.find(\"div\", class_=\"name\")\n",
    "        name = nameTag.find(\"a\").getText().strip()\n",
    "        name = name.replace(u'\\u2010',\"-\")\n",
    "        price = tag.find(\"div\", class_=\"price\").getText().strip(\"₽ \\n\\r\")\n",
    "        res = re.search(r\"(\\d+)₽\\n\\d+\",price)\n",
    "        if(res):\n",
    "            price = res.group(1)\n",
    "            \n",
    "        if (int(price) != 0):\n",
    "            prices[name] = price\n",
    "    return(prices)"
   ]
  },
  {
   "cell_type": "code",
   "execution_count": 142,
   "metadata": {},
   "outputs": [],
   "source": [
    "def getPageRefs(ref):\n",
    "    responce = requests.get(ref).text\n",
    "    html = bs(responce, \"lxml\")\n",
    "    \n",
    "    pageNumTags = html.find(\"div\", class_=\"results\")\n",
    "    \n",
    "    if pageNumTags == None:\n",
    "        return([ref])\n",
    "    \n",
    "    res = re.search(r\"Показано с \\d+ по \\d+ из \\d+ \\(всего (\\d+) страниц\\)\", pageNumTags.getText())\n",
    "    \n",
    "    \n",
    "    lastPageNum = int(res.group(1))\n",
    "\n",
    "    refs = [ref + \"?page=\" + str(x) for x in range(2,lastPageNum + 1)]\n",
    "    refs = [ref] + refs\n",
    "    return(refs)"
   ]
  },
  {
   "cell_type": "code",
   "execution_count": 143,
   "metadata": {},
   "outputs": [],
   "source": [
    "def getAllPrices(refs):\n",
    "    allPrices = {}\n",
    "\n",
    "    for pageRef in refs:\n",
    "        prices = getPrices(pageRef)\n",
    "        allPrices.update(prices)\n",
    "    return(allPrices)"
   ]
  },
  {
   "cell_type": "code",
   "execution_count": 144,
   "metadata": {},
   "outputs": [],
   "source": [
    "def printToFile(allPrices, fname):\n",
    "\n",
    "    data = pd.DataFrame(list(allPrices.items()))\n",
    "    data.columns = [\"name\",\"price\"]\n",
    "    \n",
    "    data.sort_values(\"name\").to_csv(fname, index = False, sep = \";\", encoding='cp1251')\n"
   ]
  },
  {
   "cell_type": "code",
   "execution_count": 145,
   "metadata": {},
   "outputs": [],
   "source": [
    "def getAll(ref):\n",
    "        \n",
    "    refs = getPageRefs(ref)\n",
    "    \n",
    "    allPrices = getAllPrices(refs)\n",
    "    \n",
    "    return(allPrices)"
   ]
  },
  {
   "cell_type": "code",
   "execution_count": 146,
   "metadata": {},
   "outputs": [],
   "source": [
    "def getCtalogRefs(ref):\n",
    "    refs = set()\n",
    "    \n",
    "    responce = requests.get(ref).text\n",
    "    html = bs(responce, \"lxml\")\n",
    "    \n",
    "    megaCat = html.find(\"ul\", class_=\"mega-category\")\n",
    "    \n",
    "    colBlockTags = megaCat.findAll(\"li\")\n",
    "    for tag in colBlockTags:\n",
    "        atag = tag.find(\"a\")\n",
    "        \n",
    "        if atag['href'].find(\"?filter_tag=\")>0:\n",
    "            continue\n",
    "        result = re.search(r'(.*/)[^/]+/$', atag['href'])\n",
    "        cat = result.group(1)\n",
    "        \n",
    "        if cat in refs:\n",
    "            continue\n",
    "\n",
    "        refs.add(atag['href'])\n",
    "    \n",
    "    return(refs)"
   ]
  },
  {
   "cell_type": "code",
   "execution_count": 150,
   "metadata": {},
   "outputs": [
    {
     "name": "stdout",
     "output_type": "stream",
     "text": [
      "https://madeindream.com/ekotestery/\n",
      "https://madeindream.com/ucenennye-tovary/\n",
      "https://madeindream.com/degidratory/\n",
      "https://madeindream.com/suvidy/\n",
      "https://madeindream.com/kuhonnye-kombainy/\n",
      "https://madeindream.com/zapchasti/\n",
      "https://madeindream.com/drugoe-kupit/\n",
      "https://madeindream.com/sprautery/\n",
      "https://madeindream.com/tovary-gigieny/\n",
      "https://madeindream.com/vakuumnye-upakovshhiki/\n",
      "https://madeindream.com/maslopressy/\n",
      "https://madeindream.com/banki-mason-jar/\n",
      "https://madeindream.com/jogurtnicy/\n",
      "https://madeindream.com/aksessuary/\n",
      "https://madeindream.com/melanzhery/\n",
      "https://madeindream.com/planetarnye-miksery/\n",
      "https://madeindream.com/melnicy/\n",
      "https://madeindream.com/pylesosy/\n",
      "https://madeindream.com/terki/\n",
      "https://madeindream.com/blendery/\n",
      "https://madeindream.com/sokovyzhimalki/\n",
      "https://madeindream.com/zdorovye/\n",
      "https://madeindream.com/ionizatory/\n",
      "https://madeindream.com/ochistiteli-vody/\n"
     ]
    }
   ],
   "source": [
    "if __name__ == '__main__':    \n",
    "    now = datetime.datetime.now()\n",
    "    fname = \"MadeInDream_\" + now.strftime(\"%d-%m-%Y\") + \".csv\"\n",
    "    \n",
    "    catRefs = getCtalogRefs(mainRef)\n",
    "\n",
    "    \n",
    "    allPrices = {}\n",
    "\n",
    "    for ref in catRefs:\n",
    "\n",
    "        print(ref)\n",
    "        allPrices.update(getAll(ref))\n",
    "    \n",
    "    printToFile(allPrices, fname)\n",
    "    \n",
    "    "
   ]
  },
  {
   "cell_type": "code",
   "execution_count": null,
   "metadata": {},
   "outputs": [],
   "source": [
    "\n"
   ]
  },
  {
   "cell_type": "code",
   "execution_count": null,
   "metadata": {},
   "outputs": [],
   "source": []
  },
  {
   "cell_type": "code",
   "execution_count": null,
   "metadata": {},
   "outputs": [],
   "source": []
  },
  {
   "cell_type": "code",
   "execution_count": null,
   "metadata": {},
   "outputs": [],
   "source": []
  },
  {
   "cell_type": "code",
   "execution_count": 123,
   "metadata": {},
   "outputs": [],
   "source": []
  },
  {
   "cell_type": "code",
   "execution_count": 125,
   "metadata": {},
   "outputs": [],
   "source": []
  },
  {
   "cell_type": "code",
   "execution_count": null,
   "metadata": {},
   "outputs": [],
   "source": []
  }
 ],
 "metadata": {
  "kernelspec": {
   "display_name": "Python 3",
   "language": "python",
   "name": "python3"
  },
  "language_info": {
   "codemirror_mode": {
    "name": "ipython",
    "version": 3
   },
   "file_extension": ".py",
   "mimetype": "text/x-python",
   "name": "python",
   "nbconvert_exporter": "python",
   "pygments_lexer": "ipython3",
   "version": "3.6.5"
  }
 },
 "nbformat": 4,
 "nbformat_minor": 2
}

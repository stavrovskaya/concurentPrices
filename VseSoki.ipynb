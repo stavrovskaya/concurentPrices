{
 "cells": [
  {
   "cell_type": "code",
   "execution_count": 1,
   "metadata": {},
   "outputs": [],
   "source": [
    "import requests\n",
    "from bs4 import BeautifulSoup as bs\n",
    "from pprint import pprint\n",
    "import pandas as pd\n",
    "import datetime\n",
    "\n",
    "mainRef = \"http://vsesoki.ru\"\n",
    "\n",
    "\n"
   ]
  },
  {
   "cell_type": "code",
   "execution_count": 2,
   "metadata": {},
   "outputs": [],
   "source": [
    "def getPrices(ref):\n",
    "    responce = requests.get(ref).text\n",
    "    html = bs(responce, \"lxml\")\n",
    "\n",
    "    tags = html.find_all(\"div\", class_=\"prod-block\")\n",
    "    prices = {}\n",
    "    for tag in tags:\n",
    "        name = tag.find(\"p\", class_=\"title\").getText().strip()\n",
    "        price = tag.find(\"p\", class_=\"price\").getText().strip(\" руб.\")\n",
    "        if (int(price) != 0):\n",
    "            prices[name] = price\n",
    "    return(prices)"
   ]
  },
  {
   "cell_type": "code",
   "execution_count": 3,
   "metadata": {},
   "outputs": [],
   "source": [
    "def getPageRefs(ref):\n",
    "    responce = requests.get(ref).text\n",
    "    html = bs(responce, \"lxml\")\n",
    "    \n",
    "    pageNumTags = html.find(\"div\", class_=\"pagination fr\")\n",
    "    if pageNumTags == None:\n",
    "        return([ref])\n",
    "    \n",
    "    pageNums = pageNumTags.getText().split()\n",
    "    lastPageNum = int(pageNums[-1])\n",
    "\n",
    "    refs = [ref + \"?page=\" + str(x) for x in range(2,lastPageNum + 1)]\n",
    "    refs = [ref] + refs\n",
    "    return(refs)"
   ]
  },
  {
   "cell_type": "code",
   "execution_count": 4,
   "metadata": {},
   "outputs": [],
   "source": [
    "def getAllPrices(refs):\n",
    "    allPrices = {}\n",
    "\n",
    "    for pageRef in refs:\n",
    "        prices = getPrices(pageRef)\n",
    "        allPrices.update(prices)\n",
    "    return(allPrices)"
   ]
  },
  {
   "cell_type": "code",
   "execution_count": 5,
   "metadata": {},
   "outputs": [],
   "source": [
    "def printToFile(allPrices, fname):\n",
    "\n",
    "    data = pd.DataFrame(list(allPrices.items()))\n",
    "    data.columns = [\"name\",\"price\"]\n",
    "    \n",
    "    data.sort_values(\"name\").to_csv(fname, index = False, sep = \";\", encoding='cp1251')\n"
   ]
  },
  {
   "cell_type": "code",
   "execution_count": 6,
   "metadata": {},
   "outputs": [],
   "source": [
    "def getAll(ref):\n",
    "        \n",
    "    refs = getPageRefs(ref)\n",
    "    \n",
    "    allPrices = getAllPrices(refs)\n",
    "    \n",
    "    return(allPrices)"
   ]
  },
  {
   "cell_type": "code",
   "execution_count": 7,
   "metadata": {},
   "outputs": [],
   "source": [
    "def getCtalogRefs(ref):\n",
    "    refs = []\n",
    "    \n",
    "    responce = requests.get(ref).text\n",
    "    html = bs(responce, \"lxml\")\n",
    "    \n",
    "    colBlockTags = html.findAll(\"div\", class_=\"col-block\")\n",
    "    for tag in colBlockTags:\n",
    "        ptag = tag.find(\"p\")\n",
    "        atag = ptag.find(\"a\")\n",
    "        refs.append(ref + atag['href'])\n",
    "    \n",
    "    return(refs)"
   ]
  },
  {
   "cell_type": "code",
   "execution_count": 8,
   "metadata": {},
   "outputs": [
    {
     "name": "stdout",
     "output_type": "stream",
     "text": [
      "http://vsesoki.ru/collection/shnekovye-sokovyzhimalki\n",
      "http://vsesoki.ru/collection/blendery\n",
      "http://vsesoki.ru/collection/degidratory\n",
      "http://vsesoki.ru/collection/melnitsy\n",
      "http://vsesoki.ru/collection/maslopressy\n",
      "http://vsesoki.ru/collection/proraschivateli\n",
      "http://vsesoki.ru/collection/Zdorovoe-pitanie\n",
      "http://vsesoki.ru/collection/chistaya-voda\n",
      "http://vsesoki.ru/collection/vakuumnye-upakovschiki\n",
      "http://vsesoki.ru/collection/hlebopechki\n",
      "http://vsesoki.ru/collection/komplekty\n",
      "http://vsesoki.ru/collection/podarki-za-otzyv\n",
      "http://vsesoki.ru/collection/dlya-kuhni-i-zdorovya\n",
      "http://vsesoki.ru/collection/kommercheskoe-oborudovanie\n",
      "http://vsesoki.ru/collection/massazhery\n",
      "http://vsesoki.ru/collection/brendy\n",
      "http://vsesoki.ru/collection/zapchasti\n",
      "http://vsesoki.ru/collection/books\n"
     ]
    }
   ],
   "source": [
    "if __name__ == '__main__':    \n",
    "    now = datetime.datetime.now()\n",
    "    fname = \"VseSoki_\" + now.strftime(\"%d-%m-%Y\") + \".csv\"\n",
    "    \n",
    "    catRefs = getCtalogRefs(mainRef)\n",
    "    \n",
    "    allPrices = {}\n",
    "    \n",
    "    for ref in catRefs:\n",
    "        print(ref)\n",
    "        allPrices.update(getAll(ref))\n",
    "    \n",
    "    printToFile(allPrices, fname)\n",
    "    \n",
    "    "
   ]
  },
  {
   "cell_type": "code",
   "execution_count": null,
   "metadata": {},
   "outputs": [],
   "source": []
  },
  {
   "cell_type": "code",
   "execution_count": null,
   "metadata": {},
   "outputs": [],
   "source": []
  },
  {
   "cell_type": "code",
   "execution_count": null,
   "metadata": {},
   "outputs": [],
   "source": []
  }
 ],
 "metadata": {
  "kernelspec": {
   "display_name": "Python 3",
   "language": "python",
   "name": "python3"
  },
  "language_info": {
   "codemirror_mode": {
    "name": "ipython",
    "version": 3
   },
   "file_extension": ".py",
   "mimetype": "text/x-python",
   "name": "python",
   "nbconvert_exporter": "python",
   "pygments_lexer": "ipython3",
   "version": "3.6.5"
  }
 },
 "nbformat": 4,
 "nbformat_minor": 2
}
